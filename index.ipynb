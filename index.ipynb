{
 "cells": [
  {
   "cell_type": "code",
   "execution_count": 27,
   "metadata": {},
   "outputs": [],
   "source": [
    "# !pip install pandas\n",
    "# !pip install numby\n",
    "#!pip install matplotlib\n",
    "#!pip install seaborn"
   ]
  },
  {
   "cell_type": "code",
   "execution_count": 28,
   "metadata": {},
   "outputs": [],
   "source": [
    "import numpy as nu\n",
    "import pandas as pd \n",
    "import matplotlib.pyplot as plt\n",
    "import seaborn as sns"
   ]
  },
  {
   "cell_type": "code",
   "execution_count": 29,
   "metadata": {},
   "outputs": [],
   "source": [
    "df = pd.read_csv(\"autoscout-germanytest-dataset.csv\")"
   ]
  },
  {
   "cell_type": "code",
   "execution_count": 30,
   "metadata": {},
   "outputs": [
    {
     "data": {
      "text/html": [
       "<div>\n",
       "<style scoped>\n",
       "    .dataframe tbody tr th:only-of-type {\n",
       "        vertical-align: middle;\n",
       "    }\n",
       "\n",
       "    .dataframe tbody tr th {\n",
       "        vertical-align: top;\n",
       "    }\n",
       "\n",
       "    .dataframe thead th {\n",
       "        text-align: right;\n",
       "    }\n",
       "</style>\n",
       "<table border=\"1\" class=\"dataframe\">\n",
       "  <thead>\n",
       "    <tr style=\"text-align: right;\">\n",
       "      <th></th>\n",
       "      <th>mileage</th>\n",
       "      <th>make</th>\n",
       "      <th>model</th>\n",
       "      <th>fuel</th>\n",
       "      <th>gear</th>\n",
       "      <th>offerType</th>\n",
       "      <th>price</th>\n",
       "      <th>hp</th>\n",
       "      <th>year</th>\n",
       "    </tr>\n",
       "  </thead>\n",
       "  <tbody>\n",
       "    <tr>\n",
       "      <th>0</th>\n",
       "      <td>235000</td>\n",
       "      <td>BMW</td>\n",
       "      <td>316</td>\n",
       "      <td>Diesel</td>\n",
       "      <td>Manual</td>\n",
       "      <td>Used</td>\n",
       "      <td>NaN</td>\n",
       "      <td>116</td>\n",
       "      <td>2011</td>\n",
       "    </tr>\n",
       "    <tr>\n",
       "      <th>1</th>\n",
       "      <td>92800</td>\n",
       "      <td>Volkswagen</td>\n",
       "      <td>Golf</td>\n",
       "      <td>Gasoline</td>\n",
       "      <td>Manual</td>\n",
       "      <td>Used</td>\n",
       "      <td>6877.0</td>\n",
       "      <td>122</td>\n",
       "      <td>2011</td>\n",
       "    </tr>\n",
       "    <tr>\n",
       "      <th>2</th>\n",
       "      <td>149300</td>\n",
       "      <td>SEAT</td>\n",
       "      <td>Exeo</td>\n",
       "      <td>Gasoline</td>\n",
       "      <td>Manual</td>\n",
       "      <td>Used</td>\n",
       "      <td>NaN</td>\n",
       "      <td>160</td>\n",
       "      <td>2011</td>\n",
       "    </tr>\n",
       "    <tr>\n",
       "      <th>3</th>\n",
       "      <td>96200</td>\n",
       "      <td>Renault</td>\n",
       "      <td>Megane</td>\n",
       "      <td>Gasoline</td>\n",
       "      <td>Manual</td>\n",
       "      <td>Used</td>\n",
       "      <td>6950.0</td>\n",
       "      <td>110</td>\n",
       "      <td>2011</td>\n",
       "    </tr>\n",
       "    <tr>\n",
       "      <th>4</th>\n",
       "      <td>156000</td>\n",
       "      <td>Peugeot</td>\n",
       "      <td>308</td>\n",
       "      <td>Gasoline</td>\n",
       "      <td>Manual</td>\n",
       "      <td>Used</td>\n",
       "      <td>6950.0</td>\n",
       "      <td>156</td>\n",
       "      <td>2011</td>\n",
       "    </tr>\n",
       "  </tbody>\n",
       "</table>\n",
       "</div>"
      ],
      "text/plain": [
       "   mileage        make   model      fuel    gear offerType   price   hp  year\n",
       "0   235000         BMW     316    Diesel  Manual      Used     NaN  116  2011\n",
       "1    92800  Volkswagen    Golf  Gasoline  Manual      Used  6877.0  122  2011\n",
       "2   149300        SEAT    Exeo  Gasoline  Manual      Used     NaN  160  2011\n",
       "3    96200     Renault  Megane  Gasoline  Manual      Used  6950.0  110  2011\n",
       "4   156000     Peugeot     308  Gasoline  Manual      Used  6950.0  156  2011"
      ]
     },
     "execution_count": 30,
     "metadata": {},
     "output_type": "execute_result"
    }
   ],
   "source": [
    "df.head()"
   ]
  },
  {
   "cell_type": "code",
   "execution_count": 31,
   "metadata": {},
   "outputs": [
    {
     "data": {
      "text/html": [
       "<div>\n",
       "<style scoped>\n",
       "    .dataframe tbody tr th:only-of-type {\n",
       "        vertical-align: middle;\n",
       "    }\n",
       "\n",
       "    .dataframe tbody tr th {\n",
       "        vertical-align: top;\n",
       "    }\n",
       "\n",
       "    .dataframe thead th {\n",
       "        text-align: right;\n",
       "    }\n",
       "</style>\n",
       "<table border=\"1\" class=\"dataframe\">\n",
       "  <thead>\n",
       "    <tr style=\"text-align: right;\">\n",
       "      <th></th>\n",
       "      <th>mileage</th>\n",
       "      <th>make</th>\n",
       "      <th>model</th>\n",
       "      <th>fuel</th>\n",
       "      <th>gear</th>\n",
       "      <th>offerType</th>\n",
       "      <th>price</th>\n",
       "      <th>hp</th>\n",
       "      <th>year</th>\n",
       "    </tr>\n",
       "  </thead>\n",
       "  <tbody>\n",
       "    <tr>\n",
       "      <th>223</th>\n",
       "      <td>61999</td>\n",
       "      <td>Honda</td>\n",
       "      <td>Civic</td>\n",
       "      <td>Gasoline</td>\n",
       "      <td>Manual</td>\n",
       "      <td>Used</td>\n",
       "      <td>7949.0</td>\n",
       "      <td>99</td>\n",
       "      <td>2011</td>\n",
       "    </tr>\n",
       "    <tr>\n",
       "      <th>224</th>\n",
       "      <td>87216</td>\n",
       "      <td>Volkswagen</td>\n",
       "      <td>Golf</td>\n",
       "      <td>Gasoline</td>\n",
       "      <td>Manual</td>\n",
       "      <td>Used</td>\n",
       "      <td>7970.0</td>\n",
       "      <td>122</td>\n",
       "      <td>2011</td>\n",
       "    </tr>\n",
       "    <tr>\n",
       "      <th>225</th>\n",
       "      <td>120600</td>\n",
       "      <td>Ford</td>\n",
       "      <td>Focus</td>\n",
       "      <td>Gasoline</td>\n",
       "      <td>Manual</td>\n",
       "      <td>Used</td>\n",
       "      <td>7970.0</td>\n",
       "      <td>150</td>\n",
       "      <td>2011</td>\n",
       "    </tr>\n",
       "    <tr>\n",
       "      <th>226</th>\n",
       "      <td>119850</td>\n",
       "      <td>Volkswagen</td>\n",
       "      <td>Polo</td>\n",
       "      <td>Gasoline</td>\n",
       "      <td>Automatic</td>\n",
       "      <td>Used</td>\n",
       "      <td>7990.0</td>\n",
       "      <td>86</td>\n",
       "      <td>2011</td>\n",
       "    </tr>\n",
       "    <tr>\n",
       "      <th>227</th>\n",
       "      <td>154500</td>\n",
       "      <td>Volkswagen</td>\n",
       "      <td>Passat Variant</td>\n",
       "      <td>Gasoline</td>\n",
       "      <td>Manual</td>\n",
       "      <td>Used</td>\n",
       "      <td>7990.0</td>\n",
       "      <td>160</td>\n",
       "      <td>2011</td>\n",
       "    </tr>\n",
       "  </tbody>\n",
       "</table>\n",
       "</div>"
      ],
      "text/plain": [
       "     mileage        make           model      fuel       gear offerType  \\\n",
       "223    61999       Honda           Civic  Gasoline     Manual      Used   \n",
       "224    87216  Volkswagen            Golf  Gasoline     Manual      Used   \n",
       "225   120600        Ford           Focus  Gasoline     Manual      Used   \n",
       "226   119850  Volkswagen            Polo  Gasoline  Automatic      Used   \n",
       "227   154500  Volkswagen  Passat Variant  Gasoline     Manual      Used   \n",
       "\n",
       "      price   hp  year  \n",
       "223  7949.0   99  2011  \n",
       "224  7970.0  122  2011  \n",
       "225  7970.0  150  2011  \n",
       "226  7990.0   86  2011  \n",
       "227  7990.0  160  2011  "
      ]
     },
     "execution_count": 31,
     "metadata": {},
     "output_type": "execute_result"
    }
   ],
   "source": [
    "df.tail()"
   ]
  },
  {
   "cell_type": "code",
   "execution_count": 32,
   "metadata": {},
   "outputs": [
    {
     "name": "stdout",
     "output_type": "stream",
     "text": [
      "<class 'pandas.core.frame.DataFrame'>\n",
      "RangeIndex: 228 entries, 0 to 227\n",
      "Data columns (total 9 columns):\n",
      " #   Column     Non-Null Count  Dtype  \n",
      "---  ------     --------------  -----  \n",
      " 0   mileage    228 non-null    int64  \n",
      " 1   make       228 non-null    object \n",
      " 2   model      228 non-null    object \n",
      " 3   fuel       228 non-null    object \n",
      " 4   gear       228 non-null    object \n",
      " 5   offerType  228 non-null    object \n",
      " 6   price      226 non-null    float64\n",
      " 7   hp         228 non-null    int64  \n",
      " 8   year       228 non-null    int64  \n",
      "dtypes: float64(1), int64(3), object(5)\n",
      "memory usage: 16.2+ KB\n"
     ]
    }
   ],
   "source": [
    "df.info()"
   ]
  },
  {
   "cell_type": "code",
   "execution_count": 33,
   "metadata": {},
   "outputs": [
    {
     "data": {
      "text/html": [
       "<div>\n",
       "<style scoped>\n",
       "    .dataframe tbody tr th:only-of-type {\n",
       "        vertical-align: middle;\n",
       "    }\n",
       "\n",
       "    .dataframe tbody tr th {\n",
       "        vertical-align: top;\n",
       "    }\n",
       "\n",
       "    .dataframe thead th {\n",
       "        text-align: right;\n",
       "    }\n",
       "</style>\n",
       "<table border=\"1\" class=\"dataframe\">\n",
       "  <thead>\n",
       "    <tr style=\"text-align: right;\">\n",
       "      <th></th>\n",
       "      <th>mileage</th>\n",
       "      <th>price</th>\n",
       "      <th>hp</th>\n",
       "      <th>year</th>\n",
       "    </tr>\n",
       "  </thead>\n",
       "  <tbody>\n",
       "    <tr>\n",
       "      <th>count</th>\n",
       "      <td>228.000000</td>\n",
       "      <td>226.000000</td>\n",
       "      <td>228.000000</td>\n",
       "      <td>228.000000</td>\n",
       "    </tr>\n",
       "    <tr>\n",
       "      <th>mean</th>\n",
       "      <td>80266.947368</td>\n",
       "      <td>18912.995575</td>\n",
       "      <td>149.442982</td>\n",
       "      <td>2015.688596</td>\n",
       "    </tr>\n",
       "    <tr>\n",
       "      <th>std</th>\n",
       "      <td>68046.383596</td>\n",
       "      <td>18617.055412</td>\n",
       "      <td>80.792502</td>\n",
       "      <td>3.321861</td>\n",
       "    </tr>\n",
       "    <tr>\n",
       "      <th>min</th>\n",
       "      <td>9.000000</td>\n",
       "      <td>5555.000000</td>\n",
       "      <td>60.000000</td>\n",
       "      <td>2011.000000</td>\n",
       "    </tr>\n",
       "    <tr>\n",
       "      <th>25%</th>\n",
       "      <td>28359.500000</td>\n",
       "      <td>7990.000000</td>\n",
       "      <td>100.500000</td>\n",
       "      <td>2013.000000</td>\n",
       "    </tr>\n",
       "    <tr>\n",
       "      <th>50%</th>\n",
       "      <td>68959.500000</td>\n",
       "      <td>9490.000000</td>\n",
       "      <td>125.000000</td>\n",
       "      <td>2016.000000</td>\n",
       "    </tr>\n",
       "    <tr>\n",
       "      <th>75%</th>\n",
       "      <td>113000.000000</td>\n",
       "      <td>27440.000000</td>\n",
       "      <td>170.000000</td>\n",
       "      <td>2019.000000</td>\n",
       "    </tr>\n",
       "    <tr>\n",
       "      <th>max</th>\n",
       "      <td>427000.000000</td>\n",
       "      <td>83890.000000</td>\n",
       "      <td>400.000000</td>\n",
       "      <td>2021.000000</td>\n",
       "    </tr>\n",
       "  </tbody>\n",
       "</table>\n",
       "</div>"
      ],
      "text/plain": [
       "             mileage         price          hp         year\n",
       "count     228.000000    226.000000  228.000000   228.000000\n",
       "mean    80266.947368  18912.995575  149.442982  2015.688596\n",
       "std     68046.383596  18617.055412   80.792502     3.321861\n",
       "min         9.000000   5555.000000   60.000000  2011.000000\n",
       "25%     28359.500000   7990.000000  100.500000  2013.000000\n",
       "50%     68959.500000   9490.000000  125.000000  2016.000000\n",
       "75%    113000.000000  27440.000000  170.000000  2019.000000\n",
       "max    427000.000000  83890.000000  400.000000  2021.000000"
      ]
     },
     "execution_count": 33,
     "metadata": {},
     "output_type": "execute_result"
    }
   ],
   "source": [
    "df.describe()"
   ]
  },
  {
   "cell_type": "code",
   "execution_count": 34,
   "metadata": {},
   "outputs": [
    {
     "data": {
      "text/plain": [
       "mileage      0\n",
       "make         0\n",
       "model        0\n",
       "fuel         0\n",
       "gear         0\n",
       "offerType    0\n",
       "price        2\n",
       "hp           0\n",
       "year         0\n",
       "dtype: int64"
      ]
     },
     "execution_count": 34,
     "metadata": {},
     "output_type": "execute_result"
    }
   ],
   "source": [
    "df.isnull().sum()"
   ]
  },
  {
   "cell_type": "code",
   "execution_count": 42,
   "metadata": {},
   "outputs": [],
   "source": [
    "df[\"price\"] = df[\"price\"].fillna(df[\"price\"].mean)"
   ]
  },
  {
   "cell_type": "code",
   "execution_count": 43,
   "metadata": {},
   "outputs": [
    {
     "data": {
      "text/plain": [
       "mileage      0\n",
       "make         0\n",
       "model        0\n",
       "fuel         0\n",
       "gear         0\n",
       "offerType    0\n",
       "price        0\n",
       "hp           0\n",
       "year         0\n",
       "dtype: int64"
      ]
     },
     "execution_count": 43,
     "metadata": {},
     "output_type": "execute_result"
    }
   ],
   "source": [
    "df.isnull().sum()"
   ]
  },
  {
   "cell_type": "code",
   "execution_count": 37,
   "metadata": {},
   "outputs": [
    {
     "data": {
      "text/plain": [
       "(228, 9)"
      ]
     },
     "execution_count": 37,
     "metadata": {},
     "output_type": "execute_result"
    }
   ],
   "source": [
    "df.shape"
   ]
  },
  {
   "cell_type": "code",
   "execution_count": 36,
   "metadata": {},
   "outputs": [
    {
     "data": {
      "text/plain": [
       "np.int64(11)"
      ]
     },
     "execution_count": 36,
     "metadata": {},
     "output_type": "execute_result"
    }
   ],
   "source": [
    "df.duplicated().sum()"
   ]
  },
  {
   "cell_type": "code",
   "execution_count": 40,
   "metadata": {},
   "outputs": [],
   "source": [
    "df = df.drop_duplicates()"
   ]
  },
  {
   "cell_type": "code",
   "execution_count": 41,
   "metadata": {},
   "outputs": [
    {
     "data": {
      "text/plain": [
       "np.int64(0)"
      ]
     },
     "execution_count": 41,
     "metadata": {},
     "output_type": "execute_result"
    }
   ],
   "source": [
    "df.duplicated().sum()"
   ]
  },
  {
   "cell_type": "code",
   "execution_count": 46,
   "metadata": {},
   "outputs": [
    {
     "data": {
      "text/plain": [
       "Index(['mileage', 'make', 'model', 'fuel', 'gear', 'offerType', 'price', 'hp',\n",
       "       'year'],\n",
       "      dtype='object')"
      ]
     },
     "execution_count": 46,
     "metadata": {},
     "output_type": "execute_result"
    }
   ],
   "source": [
    "df.columns"
   ]
  },
  {
   "cell_type": "code",
   "execution_count": 54,
   "metadata": {},
   "outputs": [],
   "source": [
    "df[\"price\"] = pd.to_numeric(df[\"price\"], errors=\"coerce\")\n",
    "df[\"price\"] = df[\"price\"].fillna(df[\"price\"].mean)\n",
    "df[\"price\"] = df[\"price\"].astype(int) "
   ]
  },
  {
   "cell_type": "code",
   "execution_count": null,
   "metadata": {},
   "outputs": [],
   "source": [
    "df['mileage'] = df[\"mileage\"].astype(int)\n",
    "df[\"price\"] = df[\"price\"].astype(int)\n",
    "df[\"hp\"] = df[\"hp\"].astype(int)\n",
    "df[\"year\"] = df[\"year\"].astype(int)"
   ]
  },
  {
   "cell_type": "code",
   "execution_count": 78,
   "metadata": {},
   "outputs": [
    {
     "data": {
      "image/png": "[encoded data removed]",
      "text/plain": [
       "<Figure size 640x480 with 1 Axes>"
      ]
     },
     "metadata": {},
     "output_type": "display_data"
    }
   ],
   "source": [
    "sns.lineplot(data=df, x=\"hp\", y=\"price\", marker='o', color='red')\n",
    "sns.lineplot()\n",
    "plt.title(\"price used cars\")\n",
    "plt.xlabel('hp')\n",
    "plt.ylabel('price')\n",
    "plt.tight_layout()\n",
    "plt.show()"
   ]
  },
  {
   "cell_type": "code",
   "execution_count": null,
   "metadata": {},
   "outputs": [
    {
     "name": "stderr",
     "output_type": "stream",
     "text": [
      "C:\\Users\\ao938\\AppData\\Local\\Temp\\ipykernel_9904\\569550635.py:8: FutureWarning: \n",
      "\n",
      "Passing `palette` without assigning `hue` is deprecated and will be removed in v0.14.0. Assign the `x` variable to `hue` and set `legend=False` for the same effect.\n",
      "\n",
      "  sns.barplot(x=pricecar.values, y=pricecar.index, palette='Blues_r')\n"
     ]
    },
    {
     "data": {
      "image/png": "[encoded data removed]",
      "text/plain": [
       "<Figure size 1200x800 with 1 Axes>"
      ]
     },
     "metadata": {},
     "output_type": "display_data"
    }
   ],
   "source": [
    "pricecar = df.groupby('mileage')['price'].sum().sort_values(ascending=False)\n",
    "plt.figure(figsize=(12, 8))\n",
    "sns.barplot(x=pricecar.values, y=pricecar.index, palette='Blues_r')\n",
    "plt.title('Total Mileage Cars', fontsize=16)\n",
    "plt.xlabel(\"Total Price\", fontsize=14)\n",
    "plt.ylabel(\"Mileage\", fontsize=14)\n",
    "plt.xticks(fontsize=12)\n",
    "plt.yticks(fontsize=12)\n",
    "plt.tight_layout()\n",
    "plt.show()"
   ]
  },
  {
   "cell_type": "code",
   "execution_count": null,
   "metadata": {},
   "outputs": [],
   "source": []
  }
 ],
 "metadata": {
  "kernelspec": {
   "display_name": "Python 3",
   "language": "python",
   "name": "python3"
  },
  "language_info": {
   "codemirror_mode": {
    "name": "ipython",
    "version": 3
   },
   "file_extension": ".py",
   "mimetype": "text/x-python",
   "name": "python",
   "nbconvert_exporter": "python",
   "pygments_lexer": "ipython3",
   "version": "3.13.2"
  }
 },
 "nbformat": 4,
 "nbformat_minor": 2
}
