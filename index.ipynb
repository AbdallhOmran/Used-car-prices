{
 "cells": [
  {
   "cell_type": "code",
   "execution_count": 29,
   "metadata": {},
   "outputs": [],
   "source": [
    "# !pip install pandas\n",
    "# !pip install numby"
   ]
  },
  {
   "cell_type": "code",
   "execution_count": 23,
   "metadata": {},
   "outputs": [],
   "source": [
    "import numpy as nu\n",
    "import pandas as pd"
   ]
  },
  {
   "cell_type": "code",
   "execution_count": 24,
   "metadata": {},
   "outputs": [],
   "source": [
    "df = pd.read_csv(\"autoscout-germanytest-dataset.csv\")"
   ]
  },
  {
   "cell_type": "code",
   "execution_count": 25,
   "metadata": {},
   "outputs": [],
   "source": [
    "df = df.drop_duplicates()"
   ]
  },
  {
   "cell_type": "code",
   "execution_count": 26,
   "metadata": {},
   "outputs": [
    {
     "name": "stdout",
     "output_type": "stream",
     "text": [
      "     mileage        make           model               fuel       gear  \\\n",
      "0     235000         BMW             316             Diesel     Manual   \n",
      "1      92800  Volkswagen            Golf           Gasoline     Manual   \n",
      "2     149300        SEAT            Exeo           Gasoline     Manual   \n",
      "3      96200     Renault          Megane           Gasoline     Manual   \n",
      "4     156000     Peugeot             308           Gasoline     Manual   \n",
      "..       ...         ...             ...                ...        ...   \n",
      "594       10     Hyundai          Tucson  Electric/Gasoline  Automatic   \n",
      "595       12        Ford  Tourneo Custom             Diesel     Manual   \n",
      "596        5        Jeep         Compass  Electric/Gasoline  Automatic   \n",
      "597       12     Hyundai          Tucson           Gasoline  Automatic   \n",
      "598     2900       Cupra            Leon  Electric/Gasoline  Automatic   \n",
      "\n",
      "          offerType    price     hp  year  \n",
      "0              Used      NaN  116.0  2011  \n",
      "1              Used   6877.0  122.0  2011  \n",
      "2              Used      NaN  160.0  2011  \n",
      "3              Used   6950.0  110.0  2011  \n",
      "4              Used   6950.0  156.0  2011  \n",
      "..              ...      ...    ...   ...  \n",
      "594  Pre-registered  38440.0  265.0  2021  \n",
      "595            Used  39850.0  185.0  2021  \n",
      "596   Demonstration      NaN  179.0  2021  \n",
      "597  Pre-registered  39988.0  179.0  2021  \n",
      "598            Used  39990.0  245.0  2021  \n",
      "\n",
      "[584 rows x 9 columns]\n"
     ]
    }
   ],
   "source": [
    "print(df)"
   ]
  },
  {
   "cell_type": "code",
   "execution_count": 27,
   "metadata": {},
   "outputs": [],
   "source": [
    "df['price'] = df['price'].fillna(df['price'].mean())"
   ]
  },
  {
   "cell_type": "code",
   "execution_count": 28,
   "metadata": {},
   "outputs": [
    {
     "name": "stdout",
     "output_type": "stream",
     "text": [
      "     mileage        make           model               fuel       gear  \\\n",
      "0     235000         BMW             316             Diesel     Manual   \n",
      "1      92800  Volkswagen            Golf           Gasoline     Manual   \n",
      "2     149300        SEAT            Exeo           Gasoline     Manual   \n",
      "3      96200     Renault          Megane           Gasoline     Manual   \n",
      "4     156000     Peugeot             308           Gasoline     Manual   \n",
      "..       ...         ...             ...                ...        ...   \n",
      "594       10     Hyundai          Tucson  Electric/Gasoline  Automatic   \n",
      "595       12        Ford  Tourneo Custom             Diesel     Manual   \n",
      "596        5        Jeep         Compass  Electric/Gasoline  Automatic   \n",
      "597       12     Hyundai          Tucson           Gasoline  Automatic   \n",
      "598     2900       Cupra            Leon  Electric/Gasoline  Automatic   \n",
      "\n",
      "          offerType         price     hp  year  \n",
      "0              Used  17652.013769  116.0  2011  \n",
      "1              Used   6877.000000  122.0  2011  \n",
      "2              Used  17652.013769  160.0  2011  \n",
      "3              Used   6950.000000  110.0  2011  \n",
      "4              Used   6950.000000  156.0  2011  \n",
      "..              ...           ...    ...   ...  \n",
      "594  Pre-registered  38440.000000  265.0  2021  \n",
      "595            Used  39850.000000  185.0  2021  \n",
      "596   Demonstration  17652.013769  179.0  2021  \n",
      "597  Pre-registered  39988.000000  179.0  2021  \n",
      "598            Used  39990.000000  245.0  2021  \n",
      "\n",
      "[584 rows x 9 columns]\n"
     ]
    }
   ],
   "source": [
    "print(df)"
   ]
  },
  {
   "cell_type": "code",
   "execution_count": null,
   "metadata": {},
   "outputs": [],
   "source": []
  },
  {
   "cell_type": "code",
   "execution_count": null,
   "metadata": {},
   "outputs": [],
   "source": []
  }
 ],
 "metadata": {
  "kernelspec": {
   "display_name": "Python 3",
   "language": "python",
   "name": "python3"
  },
  "language_info": {
   "codemirror_mode": {
    "name": "ipython",
    "version": 3
   },
   "file_extension": ".py",
   "mimetype": "text/x-python",
   "name": "python",
   "nbconvert_exporter": "python",
   "pygments_lexer": "ipython3",
   "version": "3.13.3"
  }
 },
 "nbformat": 4,
 "nbformat_minor": 2
}
