{
 "cells": [
  {
   "cell_type": "code",
   "execution_count": 1,
   "metadata": {},
   "outputs": [
    {
     "name": "stdout",
     "output_type": "stream",
     "text": [
      "Collecting pandas\n",
      "  Downloading pandas-2.2.3-cp313-cp313-win_amd64.whl.metadata (19 kB)\n",
      "Collecting numpy>=1.26.0 (from pandas)\n",
      "  Downloading numpy-2.2.4-cp313-cp313-win_amd64.whl.metadata (60 kB)\n",
      "Requirement already satisfied: python-dateutil>=2.8.2 in c:\\users\\ao938\\appdata\\local\\programs\\python\\python313\\lib\\site-packages (from pandas) (2.9.0.post0)\n",
      "Collecting pytz>=2020.1 (from pandas)\n",
      "  Downloading pytz-2025.2-py2.py3-none-any.whl.metadata (22 kB)\n",
      "Collecting tzdata>=2022.7 (from pandas)\n",
      "  Downloading tzdata-2025.2-py2.py3-none-any.whl.metadata (1.4 kB)\n",
      "Requirement already satisfied: six>=1.5 in c:\\users\\ao938\\appdata\\local\\programs\\python\\python313\\lib\\site-packages (from python-dateutil>=2.8.2->pandas) (1.17.0)\n",
      "Downloading pandas-2.2.3-cp313-cp313-win_amd64.whl (11.5 MB)\n",
      "   ---------------------------------------- 0.0/11.5 MB ? eta -:--:--\n",
      "    --------------------------------------- 0.3/11.5 MB ? eta -:--:--\n",
      "   - -------------------------------------- 0.5/11.5 MB 1.3 MB/s eta 0:00:09\n",
      "   -- ------------------------------------- 0.8/11.5 MB 1.5 MB/s eta 0:00:08\n",
      "   --- ------------------------------------ 1.0/11.5 MB 1.4 MB/s eta 0:00:08\n",
      "   ---- ----------------------------------- 1.3/11.5 MB 1.5 MB/s eta 0:00:07\n",
      "   ------ --------------------------------- 1.8/11.5 MB 1.5 MB/s eta 0:00:07\n",
      "   -------- ------------------------------- 2.4/11.5 MB 1.6 MB/s eta 0:00:06\n",
      "   --------- ------------------------------ 2.6/11.5 MB 1.6 MB/s eta 0:00:06\n",
      "   ---------- ----------------------------- 3.1/11.5 MB 1.7 MB/s eta 0:00:06\n",
      "   ----------- ---------------------------- 3.4/11.5 MB 1.7 MB/s eta 0:00:05\n",
      "   ------------- -------------------------- 3.9/11.5 MB 1.7 MB/s eta 0:00:05\n",
      "   --------------- ------------------------ 4.5/11.5 MB 1.8 MB/s eta 0:00:04\n",
      "   ---------------- ----------------------- 4.7/11.5 MB 1.8 MB/s eta 0:00:04\n",
      "   ------------------ --------------------- 5.2/11.5 MB 1.8 MB/s eta 0:00:04\n",
      "   ------------------- -------------------- 5.5/11.5 MB 1.8 MB/s eta 0:00:04\n",
      "   --------------------- ------------------ 6.0/11.5 MB 1.8 MB/s eta 0:00:03\n",
      "   ---------------------- ----------------- 6.6/11.5 MB 1.8 MB/s eta 0:00:03\n",
      "   ----------------------- ---------------- 6.8/11.5 MB 1.9 MB/s eta 0:00:03\n",
      "   ------------------------- -------------- 7.3/11.5 MB 1.9 MB/s eta 0:00:03\n",
      "   --------------------------- ------------ 7.9/11.5 MB 1.9 MB/s eta 0:00:02\n",
      "   ---------------------------- ----------- 8.1/11.5 MB 1.9 MB/s eta 0:00:02\n",
      "   ------------------------------ --------- 8.7/11.5 MB 1.9 MB/s eta 0:00:02\n",
      "   ------------------------------- -------- 8.9/11.5 MB 1.9 MB/s eta 0:00:02\n",
      "   -------------------------------- ------- 9.4/11.5 MB 1.9 MB/s eta 0:00:02\n",
      "   ---------------------------------- ----- 10.0/11.5 MB 1.9 MB/s eta 0:00:01\n",
      "   ----------------------------------- ---- 10.2/11.5 MB 1.9 MB/s eta 0:00:01\n",
      "   ------------------------------------- -- 10.7/11.5 MB 1.9 MB/s eta 0:00:01\n",
      "   -------------------------------------- - 11.0/11.5 MB 1.9 MB/s eta 0:00:01\n",
      "   ---------------------------------------- 11.5/11.5 MB 1.9 MB/s eta 0:00:00\n",
      "Downloading numpy-2.2.4-cp313-cp313-win_amd64.whl (12.6 MB)\n",
      "   ---------------------------------------- 0.0/12.6 MB ? eta -:--:--\n",
      "    --------------------------------------- 0.3/12.6 MB ? eta -:--:--\n",
      "   -- ------------------------------------- 0.8/12.6 MB 2.0 MB/s eta 0:00:06\n",
      "   --- ------------------------------------ 1.0/12.6 MB 2.1 MB/s eta 0:00:06\n",
      "   ---- ----------------------------------- 1.6/12.6 MB 2.1 MB/s eta 0:00:06\n",
      "   ------ --------------------------------- 2.1/12.6 MB 2.0 MB/s eta 0:00:06\n",
      "   ------- -------------------------------- 2.4/12.6 MB 2.0 MB/s eta 0:00:06\n",
      "   --------- ------------------------------ 2.9/12.6 MB 2.0 MB/s eta 0:00:05\n",
      "   --------- ------------------------------ 3.1/12.6 MB 2.0 MB/s eta 0:00:05\n",
      "   ----------- ---------------------------- 3.7/12.6 MB 2.0 MB/s eta 0:00:05\n",
      "   ------------- -------------------------- 4.2/12.6 MB 2.0 MB/s eta 0:00:05\n",
      "   -------------- ------------------------- 4.5/12.6 MB 2.0 MB/s eta 0:00:05\n",
      "   --------------- ------------------------ 5.0/12.6 MB 2.0 MB/s eta 0:00:04\n",
      "   ----------------- ---------------------- 5.5/12.6 MB 2.0 MB/s eta 0:00:04\n",
      "   ------------------ --------------------- 5.8/12.6 MB 2.0 MB/s eta 0:00:04\n",
      "   ------------------- -------------------- 6.3/12.6 MB 2.0 MB/s eta 0:00:04\n",
      "   -------------------- ------------------- 6.6/12.6 MB 2.0 MB/s eta 0:00:04\n",
      "   ---------------------- ----------------- 7.1/12.6 MB 2.0 MB/s eta 0:00:03\n",
      "   ----------------------- ---------------- 7.3/12.6 MB 2.0 MB/s eta 0:00:03\n",
      "   ------------------------ --------------- 7.9/12.6 MB 2.0 MB/s eta 0:00:03\n",
      "   -------------------------- ------------- 8.4/12.6 MB 2.0 MB/s eta 0:00:03\n",
      "   --------------------------- ------------ 8.7/12.6 MB 2.0 MB/s eta 0:00:02\n",
      "   ----------------------------- ---------- 9.2/12.6 MB 2.0 MB/s eta 0:00:02\n",
      "   ----------------------------- ---------- 9.4/12.6 MB 2.0 MB/s eta 0:00:02\n",
      "   ------------------------------- -------- 10.0/12.6 MB 2.0 MB/s eta 0:00:02\n",
      "   --------------------------------- ------ 10.5/12.6 MB 2.0 MB/s eta 0:00:02\n",
      "   ---------------------------------- ----- 10.7/12.6 MB 2.0 MB/s eta 0:00:01\n",
      "   ----------------------------------- ---- 11.3/12.6 MB 2.0 MB/s eta 0:00:01\n",
      "   ------------------------------------ --- 11.5/12.6 MB 2.0 MB/s eta 0:00:01\n",
      "   -------------------------------------- - 12.1/12.6 MB 2.0 MB/s eta 0:00:01\n",
      "   ---------------------------------------  12.6/12.6 MB 2.0 MB/s eta 0:00:01\n",
      "   ---------------------------------------- 12.6/12.6 MB 2.0 MB/s eta 0:00:00\n",
      "Downloading pytz-2025.2-py2.py3-none-any.whl (509 kB)\n",
      "Downloading tzdata-2025.2-py2.py3-none-any.whl (347 kB)\n",
      "Installing collected packages: pytz, tzdata, numpy, pandas\n",
      "Successfully installed numpy-2.2.4 pandas-2.2.3 pytz-2025.2 tzdata-2025.2\n"
     ]
    },
    {
     "name": "stderr",
     "output_type": "stream",
     "text": [
      "\n",
      "[notice] A new release of pip is available: 24.3.1 -> 25.0.1\n",
      "[notice] To update, run: python.exe -m pip install --upgrade pip\n",
      "ERROR: Could not find a version that satisfies the requirement numby (from versions: none)\n",
      "\n",
      "[notice] A new release of pip is available: 24.3.1 -> 25.0.1\n",
      "[notice] To update, run: python.exe -m pip install --upgrade pip\n",
      "ERROR: No matching distribution found for numby\n"
     ]
    }
   ],
   "source": [
    "!pip install pandas\n",
    "!pip install numby"
   ]
  },
  {
   "cell_type": "code",
   "execution_count": 2,
   "metadata": {},
   "outputs": [],
   "source": [
    "import numpy as nu\n",
    "import pandas as pd"
   ]
  },
  {
   "cell_type": "code",
   "execution_count": 15,
   "metadata": {},
   "outputs": [],
   "source": [
    "df = pd.read_csv(\"autoscout-germanytest-dataset.csv\")"
   ]
  },
  {
   "cell_type": "code",
   "execution_count": 17,
   "metadata": {},
   "outputs": [],
   "source": [
    "df = df.drop_duplicates()"
   ]
  },
  {
   "cell_type": "code",
   "execution_count": 18,
   "metadata": {},
   "outputs": [
    {
     "name": "stdout",
     "output_type": "stream",
     "text": [
      "     mileage        make           model               fuel       gear  \\\n",
      "0     235000         BMW             316             Diesel     Manual   \n",
      "1      92800  Volkswagen            Golf           Gasoline     Manual   \n",
      "2     149300        SEAT            Exeo           Gasoline     Manual   \n",
      "3      96200     Renault          Megane           Gasoline     Manual   \n",
      "4     156000     Peugeot             308           Gasoline     Manual   \n",
      "..       ...         ...             ...                ...        ...   \n",
      "594       10     Hyundai          Tucson  Electric/Gasoline  Automatic   \n",
      "595       12        Ford  Tourneo Custom             Diesel     Manual   \n",
      "596        5        Jeep         Compass  Electric/Gasoline  Automatic   \n",
      "597       12     Hyundai          Tucson           Gasoline  Automatic   \n",
      "598     2900       Cupra            Leon  Electric/Gasoline  Automatic   \n",
      "\n",
      "          offerType    price     hp  year  \n",
      "0              Used      NaN  116.0  2011  \n",
      "1              Used   6877.0  122.0  2011  \n",
      "2              Used      NaN  160.0  2011  \n",
      "3              Used   6950.0  110.0  2011  \n",
      "4              Used   6950.0  156.0  2011  \n",
      "..              ...      ...    ...   ...  \n",
      "594  Pre-registered  38440.0  265.0  2021  \n",
      "595            Used  39850.0  185.0  2021  \n",
      "596   Demonstration      NaN  179.0  2021  \n",
      "597  Pre-registered  39988.0  179.0  2021  \n",
      "598            Used  39990.0  245.0  2021  \n",
      "\n",
      "[584 rows x 9 columns]\n"
     ]
    }
   ],
   "source": [
    "print(df)"
   ]
  },
  {
   "cell_type": "code",
   "execution_count": 19,
   "metadata": {},
   "outputs": [],
   "source": [
    "df['price'] = df['price'].fillna(df['price'].mean())"
   ]
  },
  {
   "cell_type": "code",
   "execution_count": 20,
   "metadata": {},
   "outputs": [
    {
     "name": "stdout",
     "output_type": "stream",
     "text": [
      "     mileage        make           model               fuel       gear  \\\n",
      "0     235000         BMW             316             Diesel     Manual   \n",
      "1      92800  Volkswagen            Golf           Gasoline     Manual   \n",
      "2     149300        SEAT            Exeo           Gasoline     Manual   \n",
      "3      96200     Renault          Megane           Gasoline     Manual   \n",
      "4     156000     Peugeot             308           Gasoline     Manual   \n",
      "..       ...         ...             ...                ...        ...   \n",
      "594       10     Hyundai          Tucson  Electric/Gasoline  Automatic   \n",
      "595       12        Ford  Tourneo Custom             Diesel     Manual   \n",
      "596        5        Jeep         Compass  Electric/Gasoline  Automatic   \n",
      "597       12     Hyundai          Tucson           Gasoline  Automatic   \n",
      "598     2900       Cupra            Leon  Electric/Gasoline  Automatic   \n",
      "\n",
      "          offerType         price     hp  year  \n",
      "0              Used  17652.013769  116.0  2011  \n",
      "1              Used   6877.000000  122.0  2011  \n",
      "2              Used  17652.013769  160.0  2011  \n",
      "3              Used   6950.000000  110.0  2011  \n",
      "4              Used   6950.000000  156.0  2011  \n",
      "..              ...           ...    ...   ...  \n",
      "594  Pre-registered  38440.000000  265.0  2021  \n",
      "595            Used  39850.000000  185.0  2021  \n",
      "596   Demonstration  17652.013769  179.0  2021  \n",
      "597  Pre-registered  39988.000000  179.0  2021  \n",
      "598            Used  39990.000000  245.0  2021  \n",
      "\n",
      "[584 rows x 9 columns]\n"
     ]
    }
   ],
   "source": [
    "print(df)"
   ]
  },
  {
   "cell_type": "code",
   "execution_count": null,
   "metadata": {},
   "outputs": [],
   "source": []
  }
 ],
 "metadata": {
  "kernelspec": {
   "display_name": "Python 3",
   "language": "python",
   "name": "python3"
  },
  "language_info": {
   "codemirror_mode": {
    "name": "ipython",
    "version": 3
   },
   "file_extension": ".py",
   "mimetype": "text/x-python",
   "name": "python",
   "nbconvert_exporter": "python",
   "pygments_lexer": "ipython3",
   "version": "3.13.2"
  }
 },
 "nbformat": 4,
 "nbformat_minor": 2
}
